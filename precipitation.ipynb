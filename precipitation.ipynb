{
  "nbformat": 4,
  "nbformat_minor": 0,
  "metadata": {
    "colab": {
      "provenance": [],
      "authorship_tag": "ABX9TyOYDXNekH5YZOlIJt/qQgUd",
      "include_colab_link": true
    },
    "kernelspec": {
      "name": "python3",
      "display_name": "Python 3"
    },
    "language_info": {
      "name": "python"
    }
  },
  "cells": [
    {
      "cell_type": "markdown",
      "metadata": {
        "id": "view-in-github",
        "colab_type": "text"
      },
      "source": [
        "<a href=\"https://colab.research.google.com/github/Birlinha/Pale_Blue_Dot_NASA/blob/main/precipitation.ipynb\" target=\"_parent\"><img src=\"https://colab.research.google.com/assets/colab-badge.svg\" alt=\"Open In Colab\"/></a>"
      ]
    },
    {
      "cell_type": "code",
      "execution_count": 14,
      "metadata": {
        "colab": {
          "base_uri": "https://localhost:8080/"
        },
        "id": "dc04EVarKAxf",
        "outputId": "29f0233d-ad44-4ca6-e831-d00d4c85e681"
      },
      "outputs": [
        {
          "output_type": "stream",
          "name": "stdout",
          "text": [
            "Requirement already satisfied: h5py in /usr/local/lib/python3.10/dist-packages (3.9.0)\n",
            "Requirement already satisfied: pandas in /usr/local/lib/python3.10/dist-packages (1.5.3)\n",
            "Requirement already satisfied: numpy>=1.17.3 in /usr/local/lib/python3.10/dist-packages (from h5py) (1.23.5)\n",
            "Requirement already satisfied: python-dateutil>=2.8.1 in /usr/local/lib/python3.10/dist-packages (from pandas) (2.8.2)\n",
            "Requirement already satisfied: pytz>=2020.1 in /usr/local/lib/python3.10/dist-packages (from pandas) (2023.3.post1)\n",
            "Requirement already satisfied: six>=1.5 in /usr/local/lib/python3.10/dist-packages (from python-dateutil>=2.8.1->pandas) (1.16.0)\n"
          ]
        }
      ],
      "source": [
        "!pip install h5py pandas"
      ]
    },
    {
      "cell_type": "code",
      "source": [
        "import h5py\n",
        "import pandas as pd\n",
        "import numpy as np\n",
        "\n",
        "# Substitua 'seuarquivo.h5' pelo caminho do seu arquivo HDF5\n",
        "arquivo_hdf5 = h5py.File('3B-HHR-E.MS.MRG.3IMERG.20240106-S193000-E195959.1170.V06E.HDF5', 'r')\n"
      ],
      "metadata": {
        "id": "0OVLrLXgKaWQ"
      },
      "execution_count": 15,
      "outputs": []
    },
    {
      "cell_type": "code",
      "source": [
        "#arquivo_hdf5[\"Grid\"].keys()"
      ],
      "metadata": {
        "id": "wSJkyo0SLHs4"
      },
      "execution_count": 16,
      "outputs": []
    },
    {
      "cell_type": "code",
      "source": [
        "\n",
        "## Lista dos datasets\n",
        "#datasets = ['nv', 'lonv', 'latv', 'time', 'lon', 'lat', 'time_bnds', 'lon_bnds', 'lat_bnds',\n",
        "#            'precipitationCal', 'precipitationUncal', 'randomError', 'HQprecipitation',\n",
        "#            'HQprecipSource', 'HQobservationTime', 'IRprecipitation', 'IRkalmanFilterWeight',\n",
        "#            'probabilityLiquidPrecipitation', 'precipitationQualityIndex']\n",
        "#\n",
        "## Iterar sobre os datasets e exibir informações\n",
        "#for dataset_name in datasets:\n",
        "#    dataset = arquivo_hdf5.get(\"Grid\")[dataset_name]\n",
        "#\n",
        "#    # Exibir informações\n",
        "#    print(f\"Dataset: {dataset_name}\")\n",
        "#    print(f\"Shape: {dataset.shape}\")\n",
        "#    print(f\"Tipo de Dado: {dataset.dtype}\")\n",
        "#    print(f\"Dados:\\n{dataset[:]}\")  # Ajuste se desejar visualizar apenas uma parte dos dados\n",
        "#    print(\"\\n\" + \"=\"*50 + \"\\n\")  # Separador"
      ],
      "metadata": {
        "id": "lx_QJ2XXLZWt"
      },
      "execution_count": 17,
      "outputs": []
    },
    {
      "cell_type": "code",
      "source": [
        "dataset_nv = arquivo_hdf5.get(\"Grid\")[\"nv\"]\n",
        "dataset_lonv = arquivo_hdf5.get(\"Grid\")[\"lonv\"]\n",
        "dataset_latv = arquivo_hdf5.get(\"Grid\")[\"latv\"]\n",
        "dataset_time = arquivo_hdf5.get(\"Grid\")[\"time\"]\n",
        "dataset_lon = arquivo_hdf5.get(\"Grid\")[\"lon\"]\n",
        "dataset_lat = arquivo_hdf5.get(\"Grid\")[\"lat\"]\n",
        "dataset_time_bnds = arquivo_hdf5.get(\"Grid\")[\"time_bnds\"]\n",
        "dataset_lon_bnds = arquivo_hdf5.get(\"Grid\")[\"lon_bnds\"]\n",
        "dataset_lat_bnds = arquivo_hdf5.get(\"Grid\")[\"lat_bnds\"]\n",
        "dataset_precipitationCal = arquivo_hdf5.get(\"Grid\")[\"precipitationCal\"]\n",
        "dataset_precipitationUncal = arquivo_hdf5.get(\"Grid\")[\"precipitationUncal\"]\n",
        "dataset_randomError = arquivo_hdf5.get(\"Grid\")[\"randomError\"]\n",
        "dataset_HQprecipitation = arquivo_hdf5.get(\"Grid\")[\"HQprecipitation\"]\n",
        "dataset_HQprecipSource = arquivo_hdf5.get(\"Grid\")[\"HQprecipSource\"]\n",
        "dataset_HQobservationTime = arquivo_hdf5.get(\"Grid\")[\"HQobservationTime\"]\n",
        "dataset_IRprecipitation = arquivo_hdf5.get(\"Grid\")[\"IRprecipitation\"]\n",
        "dataset_IRkalmanFilterWeight = arquivo_hdf5.get(\"Grid\")[\"IRkalmanFilterWeight\"]\n",
        "dataset_probabilityLiquidPrecipitation = arquivo_hdf5.get(\"Grid\")[\"probabilityLiquidPrecipitation\"]\n",
        "dataset_precipitationQualityIndex = arquivo_hdf5.get(\"Grid\")[\"precipitationQualityIndex\"]"
      ],
      "metadata": {
        "id": "-mZfoQ8kL5yb"
      },
      "execution_count": 18,
      "outputs": []
    },
    {
      "cell_type": "code",
      "source": [
        "from datetime import datetime\n",
        "\n",
        "# Extract the value from the 1-element array\n",
        "unix_timestamp = dataset_time[:][0]\n",
        "\n",
        "# Convert UNIX timestamp to datetime\n",
        "datetime_obj = datetime.utcfromtimestamp(unix_timestamp)\n",
        "\n",
        "print(f\"Shape: {dataset_time.shape}\")\n",
        "print(f\"Type: {dataset_time.dtype}\")\n",
        "print(f\"Data: {datetime_obj}\")\n",
        "print(\"=\" * 50)\n"
      ],
      "metadata": {
        "colab": {
          "base_uri": "https://localhost:8080/"
        },
        "id": "MPZE3cZPNha2",
        "outputId": "64c9c1ab-022b-462c-9968-64a23dca3c53"
      },
      "execution_count": 19,
      "outputs": [
        {
          "output_type": "stream",
          "name": "stdout",
          "text": [
            "Shape: (1,)\n",
            "Type: int32\n",
            "Data: 2024-01-06 19:30:00\n",
            "==================================================\n"
          ]
        }
      ]
    },
    {
      "cell_type": "code",
      "source": [
        "# Convert UNIX timestamp to datetime\n",
        "dt0 = datetime.utcfromtimestamp(dataset_time_bnds[:][0][0])\n",
        "dt1 = datetime.utcfromtimestamp(dataset_time_bnds[:][0][1])\n",
        "print(dt0)\n",
        "print(dt1)"
      ],
      "metadata": {
        "colab": {
          "base_uri": "https://localhost:8080/"
        },
        "id": "C45WvGtbPwkM",
        "outputId": "086da445-284f-4eaf-adcf-ef3af2bf81c9"
      },
      "execution_count": 20,
      "outputs": [
        {
          "output_type": "stream",
          "name": "stdout",
          "text": [
            "2024-01-06 19:30:00\n",
            "2024-01-06 20:00:00\n"
          ]
        }
      ]
    },
    {
      "cell_type": "code",
      "source": [
        "# Clean invalid values (replace -9999.9 with NaN)\n",
        "dataset_precipitationCal_cleaned = np.where(dataset_precipitationCal[:] == -9999.9, np.nan, dataset_precipitationCal[:])\n",
        "display(dataset_precipitationCal_cleaned)\n",
        "\n",
        "np.unique(dataset_precipitationCal_cleaned)"
      ],
      "metadata": {
        "colab": {
          "base_uri": "https://localhost:8080/",
          "height": 173
        },
        "id": "aMutOO43QK0q",
        "outputId": "0b638dc6-12d5-4751-8548-a18b72742937"
      },
      "execution_count": 21,
      "outputs": [
        {
          "output_type": "display_data",
          "data": {
            "text/plain": [
              "array([[[nan, nan, nan, ..., nan, nan, nan],\n",
              "        [nan, nan, nan, ..., nan, nan, nan],\n",
              "        [nan, nan, nan, ..., nan, nan, nan],\n",
              "        ...,\n",
              "        [nan, nan, nan, ..., nan, nan, nan],\n",
              "        [nan, nan, nan, ..., nan, nan, nan],\n",
              "        [nan, nan, nan, ..., nan, nan, nan]]], dtype=float32)"
            ]
          },
          "metadata": {}
        },
        {
          "output_type": "execute_result",
          "data": {
            "text/plain": [
              "array([0.0000000e+00, 3.6976054e-15, 5.6858083e-14, ..., 6.2728424e+01,\n",
              "       6.5629997e+01,           nan], dtype=float32)"
            ]
          },
          "metadata": {},
          "execution_count": 21
        }
      ]
    },
    {
      "cell_type": "code",
      "source": [
        "#dataset_precipitationUncal[:]\n",
        "\n",
        "# Clean invalid values (replace -9999.9 with NaN)\n",
        "dataset_precipitationUncal_cleaned = np.where(dataset_precipitationUncal[:] == -9999.9, np.nan, dataset_precipitationUncal[:])\n",
        "display(dataset_precipitationUncal_cleaned)\n",
        "\n",
        "np.unique(dataset_precipitationUncal_cleaned)"
      ],
      "metadata": {
        "colab": {
          "base_uri": "https://localhost:8080/",
          "height": 173
        },
        "id": "lY_NQvRqQt0y",
        "outputId": "ee345754-9561-44fa-b56d-384d2fab7d8a"
      },
      "execution_count": 22,
      "outputs": [
        {
          "output_type": "display_data",
          "data": {
            "text/plain": [
              "array([[[nan, nan, nan, ..., nan, nan, nan],\n",
              "        [nan, nan, nan, ..., nan, nan, nan],\n",
              "        [nan, nan, nan, ..., nan, nan, nan],\n",
              "        ...,\n",
              "        [nan, nan, nan, ..., nan, nan, nan],\n",
              "        [nan, nan, nan, ..., nan, nan, nan],\n",
              "        [nan, nan, nan, ..., nan, nan, nan]]], dtype=float32)"
            ]
          },
          "metadata": {}
        },
        {
          "output_type": "execute_result",
          "data": {
            "text/plain": [
              "array([0.0000000e+00, 3.6976054e-15, 5.6858083e-14, ..., 6.2728424e+01,\n",
              "       6.5629997e+01,           nan], dtype=float32)"
            ]
          },
          "metadata": {},
          "execution_count": 22
        }
      ]
    },
    {
      "cell_type": "code",
      "source": [
        "#dataset_randomError[:]\n",
        "\n",
        "# Clean invalid values (replace -9999.9 with NaN)\n",
        "dataset_randomError_cleaned = np.where(dataset_randomError[:] == -9999.9, np.nan, dataset_randomError[:])\n",
        "display(dataset_randomError_cleaned)\n",
        "\n",
        "np.unique(dataset_randomError_cleaned)"
      ],
      "metadata": {
        "colab": {
          "base_uri": "https://localhost:8080/",
          "height": 173
        },
        "id": "jSAcMKtXQ4Os",
        "outputId": "962a1cb4-19bd-4b24-f18b-b0ab904b9eb5"
      },
      "execution_count": 23,
      "outputs": [
        {
          "output_type": "display_data",
          "data": {
            "text/plain": [
              "array([[[nan, nan, nan, ..., nan, nan, nan],\n",
              "        [nan, nan, nan, ..., nan, nan, nan],\n",
              "        [nan, nan, nan, ..., nan, nan, nan],\n",
              "        ...,\n",
              "        [nan, nan, nan, ..., nan, nan, nan],\n",
              "        [nan, nan, nan, ..., nan, nan, nan],\n",
              "        [nan, nan, nan, ..., nan, nan, nan]]], dtype=float32)"
            ]
          },
          "metadata": {}
        },
        {
          "output_type": "execute_result",
          "data": {
            "text/plain": [
              "array([  0.23811762,   0.23811768,   0.2381179 , ..., 116.56748   ,\n",
              "       120.57081   ,          nan], dtype=float32)"
            ]
          },
          "metadata": {},
          "execution_count": 23
        }
      ]
    },
    {
      "cell_type": "code",
      "source": [
        "#dataset_HQprecipitation[:]\n",
        "\n",
        "# Clean invalid values (replace -9999.9 with NaN)\n",
        "dataset_HQprecipitation_cleaned = np.where(dataset_HQprecipitation[:] == -9999.9, np.nan, dataset_HQprecipitation[:])\n",
        "display(dataset_HQprecipitation_cleaned)\n",
        "\n",
        "np.unique(dataset_HQprecipitation_cleaned)"
      ],
      "metadata": {
        "colab": {
          "base_uri": "https://localhost:8080/",
          "height": 173
        },
        "id": "tf4LDZDuREZd",
        "outputId": "a9cc69bb-d649-4ff2-c577-902c814cd213"
      },
      "execution_count": 24,
      "outputs": [
        {
          "output_type": "display_data",
          "data": {
            "text/plain": [
              "array([[[nan, nan, nan, ..., nan, nan, nan],\n",
              "        [nan, nan, nan, ..., nan, nan, nan],\n",
              "        [nan, nan, nan, ..., nan, nan, nan],\n",
              "        ...,\n",
              "        [nan, nan, nan, ..., nan, nan, nan],\n",
              "        [nan, nan, nan, ..., nan, nan, nan],\n",
              "        [nan, nan, nan, ..., nan, nan, nan]]], dtype=float32)"
            ]
          },
          "metadata": {}
        },
        {
          "output_type": "execute_result",
          "data": {
            "text/plain": [
              "array([0.000e+00, 1.000e-02, 2.000e-02, ..., 6.173e+01, 6.563e+01,\n",
              "             nan], dtype=float32)"
            ]
          },
          "metadata": {},
          "execution_count": 24
        }
      ]
    },
    {
      "cell_type": "code",
      "source": [
        "#dataset_HQobservationTime[:]\n",
        "\n",
        "# Clean invalid values (replace -9999. with NaN)\n",
        "dataset_HQobservationTime_cleaned = np.where(dataset_HQobservationTime[:] == -9999., np.nan, dataset_HQobservationTime[:])\n",
        "display(dataset_HQobservationTime_cleaned)\n",
        "\n",
        "np.unique(dataset_HQobservationTime_cleaned)"
      ],
      "metadata": {
        "colab": {
          "base_uri": "https://localhost:8080/",
          "height": 191
        },
        "id": "85r7Gl44RNP2",
        "outputId": "1fc6dd2d-c502-454a-f898-2f2482845583"
      },
      "execution_count": 25,
      "outputs": [
        {
          "output_type": "display_data",
          "data": {
            "text/plain": [
              "array([[[nan, nan, nan, ..., nan, nan, nan],\n",
              "        [nan, nan, nan, ..., nan, nan, nan],\n",
              "        [nan, nan, nan, ..., nan, nan, nan],\n",
              "        ...,\n",
              "        [nan, nan, nan, ..., nan, nan, nan],\n",
              "        [nan, nan, nan, ..., nan, nan, nan],\n",
              "        [nan, nan, nan, ..., nan, nan, nan]]])"
            ]
          },
          "metadata": {}
        },
        {
          "output_type": "execute_result",
          "data": {
            "text/plain": [
              "array([ 0.,  1.,  2.,  3.,  4.,  5.,  6.,  7.,  8.,  9., 10., 11., 12.,\n",
              "       13., 14., 15., 16., 17., 18., 19., 20., 21., 22., 23., 24., 25.,\n",
              "       26., 27., 28., 29., nan])"
            ]
          },
          "metadata": {},
          "execution_count": 25
        }
      ]
    },
    {
      "cell_type": "code",
      "source": [
        "dataset_IRprecipitation[:]\n",
        "\n",
        "# Clean invalid values (replace -9999.9 with NaN)\n",
        "dataset_IRprecipitation_cleaned = np.where(dataset_IRprecipitation[:] == -9999.9, np.nan, dataset_IRprecipitation[:])\n",
        "display(dataset_IRprecipitation_cleaned)\n",
        "\n",
        "np.unique(dataset_IRprecipitation_cleaned)"
      ],
      "metadata": {
        "colab": {
          "base_uri": "https://localhost:8080/",
          "height": 173
        },
        "id": "EPAweU-TRt03",
        "outputId": "a911a7bb-d1cd-4c96-8fe9-3ff8dd03b647"
      },
      "execution_count": 26,
      "outputs": [
        {
          "output_type": "display_data",
          "data": {
            "text/plain": [
              "array([[[nan, nan, nan, ..., nan, nan, nan],\n",
              "        [nan, nan, nan, ..., nan, nan, nan],\n",
              "        [nan, nan, nan, ..., nan, nan, nan],\n",
              "        ...,\n",
              "        [nan, nan, nan, ..., nan, nan, nan],\n",
              "        [nan, nan, nan, ..., nan, nan, nan],\n",
              "        [nan, nan, nan, ..., nan, nan, nan]]], dtype=float32)"
            ]
          },
          "metadata": {}
        },
        {
          "output_type": "execute_result",
          "data": {
            "text/plain": [
              "array([0.0000000e+00, 3.9999999e-04, 7.9999998e-04, ..., 5.4975601e+01,\n",
              "       5.5955196e+01,           nan], dtype=float32)"
            ]
          },
          "metadata": {},
          "execution_count": 26
        }
      ]
    },
    {
      "cell_type": "code",
      "source": [
        "#dataset_IRkalmanFilterWeight[:]\n",
        "\n",
        "# Clean invalid values (replace -9999.9 with NaN)\n",
        "dataset_IRkalmanFilterWeight_cleaned = np.where(dataset_IRkalmanFilterWeight[:] == -9999, np.nan, dataset_IRkalmanFilterWeight[:])\n",
        "display(dataset_IRkalmanFilterWeight_cleaned)\n",
        "\n",
        "np.unique(dataset_IRkalmanFilterWeight_cleaned)"
      ],
      "metadata": {
        "colab": {
          "base_uri": "https://localhost:8080/",
          "height": 312
        },
        "id": "wXYrMYlTR8MM",
        "outputId": "04866513-0c0f-4338-e9b7-a7383a028d0a"
      },
      "execution_count": 27,
      "outputs": [
        {
          "output_type": "display_data",
          "data": {
            "text/plain": [
              "array([[[nan, nan, nan, ..., nan, nan, nan],\n",
              "        [nan, nan, nan, ..., nan, nan, nan],\n",
              "        [nan, nan, nan, ..., nan, nan, nan],\n",
              "        ...,\n",
              "        [nan, nan, nan, ..., nan, nan, nan],\n",
              "        [nan, nan, nan, ..., nan, nan, nan],\n",
              "        [nan, nan, nan, ..., nan, nan, nan]]])"
            ]
          },
          "metadata": {}
        },
        {
          "output_type": "execute_result",
          "data": {
            "text/plain": [
              "array([  0.,   1.,   2.,   3.,   4.,   5.,   6.,   7.,   8.,   9.,  10.,\n",
              "        11.,  12.,  13.,  14.,  15.,  16.,  17.,  18.,  19.,  20.,  21.,\n",
              "        22.,  23.,  24.,  25.,  26.,  28.,  29.,  30.,  31.,  32.,  33.,\n",
              "        34.,  35.,  36.,  37.,  38.,  39.,  40.,  41.,  42.,  43.,  44.,\n",
              "        45.,  46.,  47.,  48.,  49.,  50.,  51.,  52.,  53.,  54.,  55.,\n",
              "        56.,  57.,  58.,  59.,  60.,  61.,  62.,  63.,  64.,  65.,  66.,\n",
              "        67.,  68.,  69.,  70.,  71.,  72.,  73.,  74.,  75.,  76.,  77.,\n",
              "        78.,  79.,  80.,  81.,  82.,  83.,  84.,  85.,  86.,  87.,  88.,\n",
              "        89.,  90.,  91.,  92.,  93.,  94.,  95.,  96.,  97.,  98.,  99.,\n",
              "       100.,  nan])"
            ]
          },
          "metadata": {},
          "execution_count": 27
        }
      ]
    },
    {
      "cell_type": "code",
      "source": [
        "#dataset_precipitationQualityIndex[:]\n",
        "\n",
        "# Clean invalid values (replace -9999.9 with NaN)\n",
        "dataset_precipitationQualityIndex_cleaned = np.where(dataset_precipitationQualityIndex[:] == -9999.9, np.nan, dataset_precipitationQualityIndex[:])\n",
        "display(dataset_precipitationQualityIndex_cleaned)\n",
        "\n",
        "np.unique(dataset_precipitationQualityIndex_cleaned)"
      ],
      "metadata": {
        "colab": {
          "base_uri": "https://localhost:8080/",
          "height": 1000
        },
        "id": "bXPWXGZbSNLA",
        "outputId": "3aa93b2d-e807-4639-e0d3-c4a3fb5c77f6"
      },
      "execution_count": 28,
      "outputs": [
        {
          "output_type": "display_data",
          "data": {
            "text/plain": [
              "array([[[nan, nan, nan, ..., nan, nan, nan],\n",
              "        [nan, nan, nan, ..., nan, nan, nan],\n",
              "        [nan, nan, nan, ..., nan, nan, nan],\n",
              "        ...,\n",
              "        [nan, nan, nan, ..., nan, nan, nan],\n",
              "        [nan, nan, nan, ..., nan, nan, nan],\n",
              "        [nan, nan, nan, ..., nan, nan, nan]]], dtype=float32)"
            ]
          },
          "metadata": {}
        },
        {
          "output_type": "execute_result",
          "data": {
            "text/plain": [
              "array([9.99999975e-05, 3.33097950e-02, 4.90758531e-02, 5.11337966e-02,\n",
              "       5.90021685e-02, 6.19294345e-02, 6.31431267e-02, 6.80129603e-02,\n",
              "       7.34570697e-02, 7.47088119e-02, 7.51059800e-02, 8.60448927e-02,\n",
              "       8.61332417e-02, 9.12264362e-02, 9.62006450e-02, 9.75267142e-02,\n",
              "       9.83790085e-02, 1.02305681e-01, 1.04662925e-01, 1.08769730e-01,\n",
              "       1.14208512e-01, 1.15489811e-01, 1.17288806e-01, 1.19006373e-01,\n",
              "       1.20378613e-01, 1.25004336e-01, 1.32388830e-01, 1.32777736e-01,\n",
              "       1.34493977e-01, 1.34534225e-01, 1.37560800e-01, 1.41873002e-01,\n",
              "       1.43103346e-01, 1.43517971e-01, 1.43683016e-01, 1.43732667e-01,\n",
              "       1.43861696e-01, 1.44255444e-01, 1.48023456e-01, 1.48269653e-01,\n",
              "       1.48269683e-01, 1.48400754e-01, 1.48475230e-01, 1.53197408e-01,\n",
              "       1.55595690e-01, 1.63365230e-01, 1.64436325e-01, 1.65170252e-01,\n",
              "       1.65255055e-01, 1.65865496e-01, 1.66164443e-01, 1.66420624e-01,\n",
              "       1.67685151e-01, 1.68190151e-01, 1.69157758e-01, 1.69545472e-01,\n",
              "       1.70693830e-01, 1.73107937e-01, 1.73445880e-01, 1.76130444e-01,\n",
              "       1.78450078e-01, 1.80317283e-01, 1.81970701e-01, 1.82664156e-01,\n",
              "       1.85479090e-01, 1.85932830e-01, 1.90943971e-01, 1.91066682e-01,\n",
              "       1.92226440e-01, 1.93703100e-01, 1.94649652e-01, 1.95566520e-01,\n",
              "       1.95682913e-01, 1.96110159e-01, 1.96314499e-01, 1.98523954e-01,\n",
              "       1.99611902e-01, 1.99628860e-01, 2.01529890e-01, 2.01899678e-01,\n",
              "       2.02558920e-01, 2.03444004e-01, 2.03474164e-01, 2.03863189e-01,\n",
              "       2.04585508e-01, 2.04590246e-01, 2.04744071e-01, 2.04904839e-01,\n",
              "       2.04918608e-01, 2.06060141e-01, 2.06097245e-01, 2.06679106e-01,\n",
              "       2.07191080e-01, 2.07216918e-01, 2.09332019e-01, 2.10842013e-01,\n",
              "       2.12033778e-01, 2.12066770e-01, 2.12668702e-01, 2.12698266e-01,\n",
              "       2.12749019e-01, 2.13260397e-01, 2.14372620e-01, 2.15059653e-01,\n",
              "       2.17967510e-01, 2.18016952e-01, 2.18165025e-01, 2.19173089e-01,\n",
              "       2.19290897e-01, 2.19295129e-01, 2.20240355e-01, 2.24754229e-01,\n",
              "       2.25199699e-01, 2.26350009e-01, 2.27323815e-01, 2.27497756e-01,\n",
              "       2.28004843e-01, 2.28078246e-01, 2.29385450e-01, 2.29694664e-01,\n",
              "       2.29708001e-01, 2.30881393e-01, 2.31531724e-01, 2.32114732e-01,\n",
              "       2.32977793e-01, 2.35868692e-01, 2.36661345e-01, 2.36803055e-01,\n",
              "       2.39478514e-01, 2.40764156e-01, 2.42615119e-01, 2.42660984e-01,\n",
              "       2.43175879e-01, 2.44631961e-01, 2.45133489e-01, 2.46417284e-01,\n",
              "       2.47179419e-01, 2.49175832e-01, 2.50243038e-01, 2.50442773e-01,\n",
              "       2.50799477e-01, 2.51746327e-01, 2.52356499e-01, 2.52366751e-01,\n",
              "       2.52375811e-01, 2.52619773e-01, 2.52619863e-01, 2.53966868e-01,\n",
              "       2.54191160e-01, 2.56694287e-01, 2.56888151e-01, 2.57353544e-01,\n",
              "       2.58852124e-01, 2.58887947e-01, 2.59203076e-01, 2.59508133e-01,\n",
              "       2.61687994e-01, 2.61967421e-01, 2.62687951e-01, 2.63966054e-01,\n",
              "       2.64603704e-01, 2.65771985e-01, 2.66117096e-01, 2.66491205e-01,\n",
              "       2.66650587e-01, 2.66712785e-01, 2.69191831e-01, 2.69816041e-01,\n",
              "       2.70444959e-01, 2.71101922e-01, 2.71503329e-01, 2.72161782e-01,\n",
              "       2.72281200e-01, 2.72333115e-01, 2.72835553e-01, 2.73008704e-01,\n",
              "       2.73357123e-01, 2.73485065e-01, 2.74834365e-01, 2.75618821e-01,\n",
              "       2.78102785e-01, 2.78416932e-01, 2.79024631e-01, 2.79269844e-01,\n",
              "       2.80564547e-01, 2.82841176e-01, 2.83643454e-01, 2.83905476e-01,\n",
              "       2.84957975e-01, 2.85209090e-01, 2.85933614e-01, 2.86519915e-01,\n",
              "       2.86908388e-01, 2.86952525e-01, 2.87448853e-01, 2.87837863e-01,\n",
              "       2.88576216e-01, 2.88827449e-01, 2.88992107e-01, 2.89165944e-01,\n",
              "       2.89577395e-01, 2.89892167e-01, 2.90161371e-01, 2.90541977e-01,\n",
              "       2.93933213e-01, 2.94092387e-01, 2.94710547e-01, 2.96373010e-01,\n",
              "       2.96568155e-01, 2.96664745e-01, 2.96815723e-01, 2.97091484e-01,\n",
              "       2.97152758e-01, 2.97308505e-01, 2.99459010e-01, 2.99528599e-01,\n",
              "       3.01011622e-01, 3.01226705e-01, 3.01494449e-01, 3.02425027e-01,\n",
              "       3.02639663e-01, 3.03042024e-01, 3.03362787e-01, 3.03980917e-01,\n",
              "       3.04022789e-01, 3.04103464e-01, 3.04115981e-01, 3.04257780e-01,\n",
              "       3.04413110e-01, 3.06224585e-01, 3.06436777e-01, 3.06509614e-01,\n",
              "       3.06665242e-01, 3.06759477e-01, 3.08039606e-01, 3.08947116e-01,\n",
              "       3.09050471e-01, 3.09972674e-01, 3.10362339e-01, 3.11055690e-01,\n",
              "       3.11108291e-01, 3.11437011e-01, 3.12013417e-01, 3.12033653e-01,\n",
              "       3.13081503e-01, 3.13251376e-01, 3.13289523e-01, 3.13594669e-01,\n",
              "       3.14145863e-01, 3.14342886e-01, 3.14380050e-01, 3.14403683e-01,\n",
              "       3.14555168e-01, 3.15600157e-01, 3.15659583e-01, 3.16551298e-01,\n",
              "       3.16843271e-01, 3.16874266e-01, 3.18852842e-01, 3.19038421e-01,\n",
              "       3.19445014e-01, 3.19588661e-01, 3.20125699e-01, 3.20138544e-01,\n",
              "       3.20145190e-01, 3.20660800e-01, 3.21203023e-01, 3.21427226e-01,\n",
              "       3.21469665e-01, 3.21524054e-01, 3.21647823e-01, 3.21897835e-01,\n",
              "       3.21933895e-01, 3.22460115e-01, 3.22982073e-01, 3.23008865e-01,\n",
              "       3.23698401e-01, 3.23717326e-01, 3.23754340e-01, 3.23813170e-01,\n",
              "       3.23844165e-01, 3.24700952e-01, 3.25246215e-01, 3.25473964e-01,\n",
              "       3.25839311e-01, 3.26160610e-01, 3.26833308e-01, 3.26934189e-01,\n",
              "       3.27296317e-01, 3.27648312e-01, 3.27729106e-01, 3.28250110e-01,\n",
              "       3.29483837e-01, 3.29494745e-01, 3.29684019e-01, 3.30005288e-01,\n",
              "       3.30103934e-01, 3.30220848e-01, 3.30350071e-01, 3.30673158e-01,\n",
              "       3.31242889e-01, 3.31374675e-01, 3.31512183e-01, 3.31645697e-01,\n",
              "       3.31758380e-01, 3.32054734e-01, 3.32568496e-01, 3.33032846e-01,\n",
              "       3.33280534e-01, 3.33715320e-01, 3.34086210e-01, 3.34980726e-01,\n",
              "       3.35479438e-01, 3.35675687e-01, 3.35679442e-01, 3.36265415e-01,\n",
              "       3.36416095e-01, 3.36912096e-01, 3.37612748e-01, 3.37687939e-01,\n",
              "       3.37741107e-01, 3.37764293e-01, 3.38334948e-01, 3.39097291e-01,\n",
              "       3.39482605e-01, 3.40619564e-01, 3.40876192e-01, 3.40954781e-01,\n",
              "       3.41247559e-01, 3.41427118e-01, 3.41835827e-01, 3.41890275e-01,\n",
              "       3.42056870e-01, 3.42063397e-01, 3.42209339e-01, 3.42805147e-01,\n",
              "       3.43439490e-01, 3.43444914e-01, 3.43466699e-01, 3.44345748e-01,\n",
              "       3.44620854e-01, 3.44678551e-01, 3.44769895e-01, 3.46042663e-01,\n",
              "       3.47049683e-01, 3.47234517e-01, 3.47254217e-01, 3.47759992e-01,\n",
              "       3.47760022e-01, 3.47796470e-01, 3.48503709e-01, 3.48725408e-01,\n",
              "       3.49448115e-01, 3.49647164e-01, 3.50273490e-01, 3.50352585e-01,\n",
              "       3.50658774e-01, 3.51079434e-01, 3.51231933e-01, 3.51293355e-01,\n",
              "       3.51907283e-01, 3.52510840e-01, 3.52768451e-01, 3.52822781e-01,\n",
              "       3.53139609e-01, 3.53227109e-01, 3.53262931e-01, 3.54121745e-01,\n",
              "       3.55347425e-01, 3.55712742e-01, 3.55960190e-01, 3.56660873e-01,\n",
              "       3.57899994e-01, 3.58014941e-01, 3.58158886e-01, 3.58252436e-01,\n",
              "       3.58296275e-01, 3.59280258e-01, 3.59917551e-01, 3.59964669e-01,\n",
              "       3.60046685e-01, 3.60053003e-01, 3.60122919e-01, 3.60418975e-01,\n",
              "       3.60703707e-01, 3.60782057e-01, 3.61840874e-01, 3.62044990e-01,\n",
              "       3.62317711e-01, 3.62399638e-01, 3.62565041e-01, 3.63308430e-01,\n",
              "       3.63313943e-01, 3.63315463e-01, 3.63503307e-01, 3.63536268e-01,\n",
              "       3.63625795e-01, 3.64566654e-01, 3.64695042e-01, 3.64950240e-01,\n",
              "       3.65134388e-01, 3.67141247e-01, 3.67322803e-01, 3.67972553e-01,\n",
              "       3.68630648e-01, 3.68662030e-01, 3.69185209e-01, 3.69305134e-01,\n",
              "       3.69514048e-01, 3.69657278e-01, 3.70666146e-01, 3.70776832e-01,\n",
              "       3.71651053e-01, 3.72309685e-01, 3.73336971e-01, 3.73518944e-01,\n",
              "       3.73612314e-01, 3.74374866e-01, 3.74603957e-01, 3.75132293e-01,\n",
              "       3.75330240e-01, 3.76228392e-01, 3.78317356e-01, 3.78611952e-01,\n",
              "       3.79839450e-01, 3.80363494e-01, 3.80672574e-01, 3.82238537e-01,\n",
              "       3.82404298e-01, 3.82598847e-01, 3.82801682e-01, 3.83191139e-01,\n",
              "       3.83231252e-01, 3.84191722e-01, 3.85048836e-01, 3.86504233e-01,\n",
              "       3.86504263e-01, 3.86963546e-01, 3.87360603e-01, 3.87705833e-01,\n",
              "       3.87882322e-01, 3.87992352e-01, 3.88383627e-01, 3.88523430e-01,\n",
              "       3.88703108e-01, 3.89421582e-01, 3.89841169e-01, 3.90114784e-01,\n",
              "       3.90349209e-01, 3.91066730e-01, 3.91230434e-01, 3.91260266e-01,\n",
              "       3.91614914e-01, 3.91694486e-01, 3.92383665e-01, 3.93025696e-01,\n",
              "       3.93526405e-01, 3.93699408e-01, 3.93759280e-01, 3.94300759e-01,\n",
              "       3.94474506e-01, 3.94996792e-01, 3.95168215e-01, 3.95322353e-01,\n",
              "       3.95421088e-01, 3.95460695e-01, 3.95612866e-01, 3.95818353e-01,\n",
              "       3.96097302e-01, 3.96212488e-01, 3.97206396e-01, 3.97336364e-01,\n",
              "       3.97354096e-01, 3.97524923e-01, 3.97542626e-01, 3.98655444e-01,\n",
              "       3.98734421e-01, 3.98964912e-01, 3.99609476e-01, 4.00074422e-01,\n",
              "       4.00828481e-01, 4.00865465e-01, 4.01200294e-01, 4.01300788e-01,\n",
              "       4.01887417e-01, 4.02152121e-01, 4.03157175e-01, 4.03354734e-01,\n",
              "       4.03372884e-01, 4.03650761e-01, 4.04791504e-01, 4.05103683e-01,\n",
              "       4.06829953e-01, 4.07401353e-01, 4.07555550e-01, 4.10133719e-01,\n",
              "       4.11428988e-01, 4.11785722e-01, 4.12564039e-01, 4.13268715e-01,\n",
              "       4.13661331e-01, 4.13691819e-01, 4.14726317e-01, 4.17612195e-01,\n",
              "       4.18972611e-01, 4.19307828e-01, 4.19726968e-01, 4.20744509e-01,\n",
              "       4.21040952e-01, 4.21279490e-01, 4.21293169e-01, 4.21668917e-01,\n",
              "       4.21692491e-01, 4.22662318e-01, 4.23004746e-01, 4.23784077e-01,\n",
              "       4.24569428e-01, 4.25770849e-01, 4.27309155e-01, 4.28002715e-01,\n",
              "       4.29588228e-01, 4.30294156e-01, 4.30765361e-01, 4.31394458e-01,\n",
              "       4.31679487e-01, 4.32287812e-01, 4.33313727e-01, 4.34409857e-01,\n",
              "       4.35152352e-01, 4.35582846e-01, 4.35592800e-01, 4.36005712e-01,\n",
              "       4.36246663e-01, 4.37159240e-01, 4.37497258e-01, 4.39757258e-01,\n",
              "       4.39880252e-01, 4.40435290e-01, 4.40969348e-01, 4.43135947e-01,\n",
              "       4.43431020e-01, 4.43458557e-01, 4.45006639e-01, 4.45361108e-01,\n",
              "       4.45933819e-01, 4.46978390e-01, 4.47517931e-01, 4.47735161e-01,\n",
              "       4.54237372e-01, 4.54242915e-01, 4.54893172e-01, 4.54951525e-01,\n",
              "       4.55892324e-01, 4.56092477e-01, 4.57039535e-01, 4.57869262e-01,\n",
              "       4.57983255e-01, 4.59139794e-01, 4.59331125e-01, 4.61793363e-01,\n",
              "       4.63113248e-01, 4.63186622e-01, 4.63518381e-01, 4.64391768e-01,\n",
              "       4.65043485e-01, 4.65907812e-01, 4.67054427e-01, 4.67321783e-01,\n",
              "       4.67365772e-01, 4.67430800e-01, 4.68567967e-01, 4.68594283e-01,\n",
              "       4.68621165e-01, 4.69686627e-01, 4.69788611e-01, 4.70051169e-01,\n",
              "       4.70092863e-01, 4.70353067e-01, 4.70825016e-01, 4.71521854e-01,\n",
              "       4.71570253e-01, 4.71802741e-01, 4.72704858e-01, 4.73381042e-01,\n",
              "       4.73498255e-01, 4.75133508e-01, 4.75585520e-01, 4.76266384e-01,\n",
              "       4.79507029e-01, 4.79592085e-01, 4.79739904e-01, 4.79818553e-01,\n",
              "       4.79836524e-01, 4.80104208e-01, 4.82195020e-01, 4.82791781e-01,\n",
              "       4.83306170e-01, 4.83409673e-01, 4.83421713e-01, 4.83732790e-01,\n",
              "       4.84105349e-01, 4.84156281e-01, 4.85070318e-01, 4.88087356e-01,\n",
              "       4.89189357e-01, 4.89839673e-01, 4.90129352e-01, 4.90581632e-01,\n",
              "       4.91127491e-01, 4.91441727e-01, 4.95543957e-01, 4.98257726e-01,\n",
              "       4.99215871e-01, 5.01997828e-01, 5.03424883e-01, 5.03430605e-01,\n",
              "       5.03452778e-01, 5.03677487e-01, 5.04690289e-01, 5.08649349e-01,\n",
              "       5.08685648e-01, 5.10095417e-01, 5.10690629e-01, 5.11494935e-01,\n",
              "       5.11558950e-01, 5.12423694e-01, 5.12965500e-01, 5.13383448e-01,\n",
              "       5.15706301e-01, 5.16407251e-01, 5.17075896e-01, 5.17150164e-01,\n",
              "       5.18368244e-01, 5.18977761e-01, 5.19071579e-01, 5.19089162e-01,\n",
              "       5.20445108e-01, 5.20848215e-01, 5.23217440e-01, 5.25039673e-01,\n",
              "       5.25078297e-01, 5.29048920e-01, 5.30445337e-01, 5.35671115e-01,\n",
              "       5.36815822e-01, 5.39177775e-01, 5.42177260e-01, 5.43564856e-01,\n",
              "       5.46157598e-01, 5.49643695e-01, 5.49768865e-01, 5.53362310e-01,\n",
              "       5.53749561e-01, 5.60973585e-01, 5.63084185e-01, 5.67269683e-01,\n",
              "       5.67837238e-01, 5.74483037e-01, 5.78849792e-01, 5.82963109e-01,\n",
              "       5.89704871e-01, 6.00296676e-01, 6.01139784e-01, 6.03641391e-01,\n",
              "       6.14858866e-01, 6.20231926e-01, 6.26163006e-01, 6.33881867e-01,\n",
              "       6.37356162e-01, 6.38428509e-01, 6.39773130e-01, 6.41722739e-01,\n",
              "       6.41969860e-01, 6.44554853e-01, 6.46428943e-01, 6.48981929e-01,\n",
              "       6.49778187e-01, 6.51702762e-01, 6.52486503e-01, 6.53250754e-01,\n",
              "       6.54758811e-01, 6.54847205e-01, 6.57119513e-01, 6.58306301e-01,\n",
              "       6.61961317e-01, 6.62698686e-01, 6.66663289e-01, 6.66862130e-01,\n",
              "       6.67402148e-01, 6.69023991e-01, 6.69819534e-01, 6.71064675e-01,\n",
              "       6.73796177e-01, 6.78602397e-01, 6.78750157e-01, 6.81685448e-01,\n",
              "       6.82371080e-01, 6.82677627e-01, 6.83597565e-01, 6.85284197e-01,\n",
              "       6.86233401e-01, 6.86657786e-01, 6.88967884e-01, 6.90725088e-01,\n",
              "       6.91096067e-01, 6.92845106e-01, 6.95524096e-01, 6.99055731e-01,\n",
              "       7.01173544e-01, 7.01925874e-01, 7.02108622e-01, 7.04416692e-01,\n",
              "       7.04425216e-01, 7.04487503e-01, 7.05194414e-01, 7.05422997e-01,\n",
              "       7.06805348e-01, 7.07039237e-01, 7.09785759e-01, 7.10755944e-01,\n",
              "       7.11969614e-01, 7.13738441e-01, 7.15296626e-01, 7.15826511e-01,\n",
              "       7.16701806e-01, 7.16740131e-01, 7.17026114e-01, 7.17103183e-01,\n",
              "       7.17203856e-01, 7.17488766e-01, 7.19232619e-01, 7.19558477e-01,\n",
              "       7.19776630e-01, 7.19796121e-01, 7.21788287e-01, 7.22092986e-01,\n",
              "       7.22749949e-01, 7.24516869e-01, 7.26334393e-01, 7.28754520e-01,\n",
              "       7.30702400e-01, 7.30748177e-01, 7.33215988e-01, 7.34170794e-01,\n",
              "       7.34279275e-01, 7.35446990e-01, 7.35600710e-01, 7.38685846e-01,\n",
              "       7.39187062e-01, 7.39906430e-01, 7.40018845e-01, 7.41146207e-01,\n",
              "       7.42249608e-01, 7.45058060e-01, 7.46403754e-01, 7.57715702e-01,\n",
              "       7.66112626e-01, 7.71993041e-01, 7.82419443e-01, 7.82873511e-01,\n",
              "       7.88766980e-01, 7.90364742e-01, 7.94031203e-01, 7.98711300e-01,\n",
              "       7.98770666e-01, 8.02218020e-01, 8.10380638e-01, 8.13511372e-01,\n",
              "       8.14627469e-01, 8.23705077e-01, 8.27569842e-01, 8.29154193e-01,\n",
              "       8.31070483e-01, 8.31857562e-01,            nan], dtype=float32)"
            ]
          },
          "metadata": {},
          "execution_count": 28
        }
      ]
    },
    {
      "cell_type": "code",
      "source": [
        "# prompt: make X,Y plot of dataset_precipitationQualityIndex_cleaned\n",
        "\n",
        "import matplotlib.pyplot as plt\n",
        "plt.scatter(dataset_precipitationQualityIndex_cleaned,dataset_precipitationQualityIndex_cleaned, cmap='Reds')\n",
        "plt.colorbar()\n",
        "plt.show()\n"
      ],
      "metadata": {
        "colab": {
          "base_uri": "https://localhost:8080/",
          "height": 490
        },
        "id": "bihxCvB_UxQO",
        "outputId": "2a951070-07bf-49a3-91a8-114d0d1b0f17"
      },
      "execution_count": 45,
      "outputs": [
        {
          "output_type": "stream",
          "name": "stderr",
          "text": [
            "<ipython-input-45-12a5c3c40ff7>:4: UserWarning: No data for colormapping provided via 'c'. Parameters 'cmap' will be ignored\n",
            "  plt.scatter(dataset_precipitationQualityIndex_cleaned,dataset_precipitationQualityIndex_cleaned, cmap='Reds')\n"
          ]
        },
        {
          "output_type": "display_data",
          "data": {
            "text/plain": [
              "<Figure size 640x480 with 2 Axes>"
            ],
            "image/png": "[encoded data removed]"
          },
          "metadata": {}
        }
      ]
    },
    {
      "source": [
        "# prompt: create a graph of dataset_precipitationQualityIndex_cleaned\n",
        "\n",
        "import matplotlib.pyplot as plt\n",
        "\n",
        "dataset_precipitationQualityIndex_cleaned_rs = dataset_precipitationQualityIndex_cleaned.reshape(-1, 1)\n",
        "\n",
        "plt.hist(dataset_precipitationQualityIndex_cleaned_rs, bins=100)\n",
        "plt.xlabel(\"Precipitation Quality Index\")\n",
        "plt.ylabel(\"Frequency\")\n",
        "plt.title(\"Histogram of Precipitation Quality Index\")\n",
        "plt.show()\n"
      ],
      "cell_type": "code",
      "metadata": {
        "colab": {
          "base_uri": "https://localhost:8080/",
          "height": 472
        },
        "id": "YpbzXK8hT1Vh",
        "outputId": "b8773ffd-edc0-40e6-f5a6-25b84e8cddc7"
      },
      "execution_count": 34,
      "outputs": [
        {
          "output_type": "display_data",
          "data": {
            "text/plain": [
              "<Figure size 640x480 with 1 Axes>"
            ],
            "image/png": "[encoded data removed]"
          },
          "metadata": {}
        }
      ]
    }
  ]
}